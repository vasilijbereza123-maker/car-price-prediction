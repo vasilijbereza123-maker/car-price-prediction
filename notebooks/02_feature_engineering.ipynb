{
 "cells": [
  {
   "cell_type": "code",
   "execution_count": 1,
   "id": "f4620bff",
   "metadata": {},
   "outputs": [
    {
     "name": "stdout",
     "output_type": "stream",
     "text": [
      "✅ Данные готовы для feature engineering.\n",
      "Размер: (12150, 16)\n"
     ]
    }
   ],
   "source": [
    "import pandas as pd\n",
    "import numpy as np\n",
    "import re\n",
    "\n",
    "# --- 1. Исправление \"склеенного\" CSV ---\n",
    "with open('../data/data.csv', 'r', encoding='utf-8') as f:\n",
    "    raw = f.read().strip()\n",
    "\n",
    "fixed = re.sub(r'(\\d)([A-Z])', r'\\1\\n\\2', raw)\n",
    "\n",
    "with open('../data/data_fixed.csv', 'w', encoding='utf-8') as f:\n",
    "    f.write(fixed)\n",
    "\n",
    "# --- 2. Загрузка данных ---\n",
    "columns = [\n",
    "    'make', 'model', 'year', 'engine_fuel_type', 'engine_hp', 'engine_cylinders',\n",
    "    'transmission_type', 'driven_wheels', 'number_of_doors', 'market_category',\n",
    "    'vehicle_size', 'vehicle_style', 'highway_mpg', 'city_mpg', 'popularity', 'msrp'\n",
    "]\n",
    "\n",
    "df = pd.read_csv('../data/data_fixed.csv', header=None, names=columns)\n",
    "\n",
    "# --- 3. Преобразование числовых колонок ---\n",
    "numeric_cols = ['year', 'engine_hp', 'engine_cylinders', 'highway_mpg', 'city_mpg', 'popularity', 'msrp', 'number_of_doors']\n",
    "for col in numeric_cols:\n",
    "    df[col] = pd.to_numeric(df[col], errors='coerce')\n",
    "\n",
    "# --- 4. Обработка строковых колонок ---\n",
    "str_cols = df.select_dtypes(include='object').columns\n",
    "for col in str_cols:\n",
    "    df[col] = df[col].astype(str).str.lower().str.replace(' ', '_')\n",
    "\n",
    "# --- 5. Заполнение пропусков ---\n",
    "df['engine_hp'] = df['engine_hp'].fillna(df['engine_hp'].median())\n",
    "df['engine_cylinders'] = df['engine_cylinders'].fillna(df['engine_cylinders'].median())\n",
    "df['number_of_doors'] = df['number_of_doors'].fillna(df['number_of_doors'].median())\n",
    "df['engine_fuel_type'] = df['engine_fuel_type'].fillna(df['engine_fuel_type'].mode()[0])\n",
    "df['market_category'] = df['market_category'].fillna('unknown')\n",
    "\n",
    "# --- Готово ---\n",
    "print(\"✅ Данные готовы для feature engineering.\")\n",
    "print(\"Размер:\", df.shape)"
   ]
  },
  {
   "cell_type": "code",
   "execution_count": 2,
   "id": "7b7170c9",
   "metadata": {},
   "outputs": [],
   "source": [
    "base = ['engine_hp', 'engine_cylinders', 'highway_mpg', 'city_mpg', 'popularity']\n",
    "\n",
    "def prepare_X(df):\n",
    "    df = df.copy()\n",
    "    features = base.copy()\n",
    "    \n",
    "    # 1. Возраст автомобиля (относительно 2017 года — последнего в датасете)\n",
    "    df['age'] = 2017 - df['year']\n",
    "    features.append('age')\n",
    "    \n",
    "    # 2. Кодирование количества дверей (2, 3, 4)\n",
    "    for v in [2, 3, 4]:\n",
    "        feature = f'num_doors_{v}'\n",
    "        df[feature] = (df['number_of_doors'] == v).astype(int)\n",
    "        features.append(feature)\n",
    "    \n",
    "    # 3. Топ-5 марок (на основе EDA)\n",
    "    top_makes = ['chevrolet', 'ford', 'toyota', 'nissan', 'honda']\n",
    "    for make in top_makes:\n",
    "        feature = f'is_make_{make}'\n",
    "        df[feature] = (df['make'] == make).astype(int)\n",
    "        features.append(feature)\n",
    "    \n",
    "    # 4. Тип топлива (основные категории)\n",
    "    fuel_types = [\n",
    "        'regular unleaded',\n",
    "        'premium unleaded (required)',\n",
    "        'premium unleaded (recommended)',\n",
    "        'flex-fuel (unleaded/e85)',\n",
    "        'diesel'\n",
    "    ]\n",
    "    for fuel in fuel_types:\n",
    "        feature = f'is_fuel_{fuel.replace(\" \", \"_\").replace(\"(\", \"\").replace(\")\", \"\").replace(\"/\", \"_\")}'\n",
    "        df[feature] = (df['engine_fuel_type'] == fuel).astype(int)\n",
    "        features.append(feature)\n",
    "    \n",
    "    # 5. Трансмиссия\n",
    "    transmissions = ['automatic', 'manual', 'automated_manual']\n",
    "    for trans in transmissions:\n",
    "        feature = f'is_trans_{trans}'\n",
    "        df[feature] = (df['transmission_type'] == trans).astype(int)\n",
    "        features.append(feature)\n",
    "    \n",
    "    # 6. Привод\n",
    "    drives = ['front wheel drive', 'rear wheel drive', 'all wheel drive', 'four wheel drive']\n",
    "    for drive in drives:\n",
    "        feature = f'is_drive_{drive.replace(\" \", \"_\")}'\n",
    "        df[feature] = (df['driven_wheels'] == drive).astype(int)\n",
    "        features.append(feature)\n",
    "    \n",
    "    # 7. Размер автомобиля\n",
    "    sizes = ['compact', 'midsize', 'large']\n",
    "    for size in sizes:\n",
    "        feature = f'is_size_{size}'\n",
    "        df[feature] = (df['vehicle_size'] == size).astype(int)\n",
    "        features.append(feature)\n",
    "    \n",
    "    # 8. Стиль кузова (топ-5 по частоте)\n",
    "    styles = ['sedan', '4dr_suv', 'crew_cab_pickup', 'coupe', '4dr_hatchback']\n",
    "    for style in styles:\n",
    "        feature = f'is_style_{style}'\n",
    "        df[feature] = (df['vehicle_style'] == style).astype(int)\n",
    "        features.append(feature)\n",
    "    \n",
    "    # Формируем матрицу признаков\n",
    "    df_num = df[features].fillna(0)  # на всякий случай\n",
    "    X = df_num.values\n",
    "    return X"
   ]
  },
  {
   "cell_type": "code",
   "execution_count": 8,
   "id": "3eb25c38",
   "metadata": {},
   "outputs": [
    {
     "name": "stdout",
     "output_type": "stream",
     "text": [
      "Train: 7007, Val: 2336, Test: 2336\n"
     ]
    }
   ],
   "source": [
    "# Убедимся, что 'msrp' — числовой и без NaN\n",
    "df['msrp'] = pd.to_numeric(df['msrp'], errors='coerce')\n",
    "df = df.dropna(subset=['msrp'])  # УДАЛЯЕМ строки с некорректной ценой\n",
    "\n",
    "# Теперь логарифмируем\n",
    "df['log_msrp'] = np.log1p(df['msrp'])\n",
    "\n",
    "# Разбиение\n",
    "from sklearn.model_selection import train_test_split\n",
    "df_full_train, df_test = train_test_split(df, test_size=0.2, random_state=2)\n",
    "df_train, df_val = train_test_split(df_full_train, test_size=0.25, random_state=2)\n",
    "\n",
    "df_train = df_train.reset_index(drop=True)\n",
    "df_val = df_val.reset_index(drop=True)\n",
    "df_test = df_test.reset_index(drop=True)\n",
    "\n",
    "y_train = df_train['log_msrp'].values\n",
    "y_val = df_val['log_msrp'].values\n",
    "y_test = df_test['log_msrp'].values\n",
    "\n",
    "print(f\"Train: {len(df_train)}, Val: {len(df_val)}, Test: {len(df_test)}\")"
   ]
  },
  {
   "cell_type": "code",
   "execution_count": 9,
   "id": "c8815eb5",
   "metadata": {},
   "outputs": [
    {
     "name": "stdout",
     "output_type": "stream",
     "text": [
      "Форма X_train: (7007, 34)\n",
      "Количество признаков: 34\n"
     ]
    }
   ],
   "source": [
    "# Протестируем prepare_X на обучающей выборке\n",
    "X_train = prepare_X(df_train)\n",
    "print(\"Форма X_train:\", X_train.shape)\n",
    "print(\"Количество признаков:\", X_train.shape[1])"
   ]
  },
  {
   "cell_type": "code",
   "execution_count": 10,
   "id": "3b80a707",
   "metadata": {},
   "outputs": [
    {
     "name": "stdout",
     "output_type": "stream",
     "text": [
      "RMSE на валидации: 0.4966\n"
     ]
    }
   ],
   "source": [
    "def train_linear_regression_reg(X, y, r=0.001):\n",
    "    ones = np.ones(X.shape[0])\n",
    "    X = np.column_stack([ones, X])\n",
    "    XTX = X.T.dot(X)\n",
    "    XTX = XTX + r * np.eye(XTX.shape[0])  # добавляем регуляризацию\n",
    "    XTX_inv = np.linalg.inv(XTX)\n",
    "    w = XTX_inv.dot(X.T).dot(y)\n",
    "    return w[0], w[1:]\n",
    "\n",
    "def rmse(y_true, y_pred):\n",
    "    return np.sqrt(((y_pred - y_true) ** 2).mean())\n",
    "\n",
    "# Обучение модели с регуляризацией\n",
    "X_train = prepare_X(df_train)\n",
    "w0, w = train_linear_regression_reg(X_train, y_train, r=0.01)\n",
    "\n",
    "# Валидация\n",
    "X_val = prepare_X(df_val)\n",
    "y_pred_val = w0 + X_val.dot(w)\n",
    "rmse_val = rmse(y_val, y_pred_val)\n",
    "print(f\"RMSE на валидации: {rmse_val:.4f}\")"
   ]
  },
  {
   "cell_type": "code",
   "execution_count": 11,
   "id": "943fdd16",
   "metadata": {},
   "outputs": [
    {
     "name": "stdout",
     "output_type": "stream",
     "text": [
      "RMSE на валидации (в долларах): $40,564\n"
     ]
    }
   ],
   "source": [
    "# Обратное преобразование предсказаний и целевой переменной\n",
    "y_pred_val_exp = np.expm1(y_pred_val)\n",
    "y_val_exp = np.expm1(y_val)\n",
    "\n",
    "# RMSE в долларах\n",
    "rmse_dollars = rmse(y_val_exp, y_pred_val_exp)\n",
    "print(f\"RMSE на валидации (в долларах): ${rmse_dollars:,.0f}\")"
   ]
  },
  {
   "cell_type": "code",
   "execution_count": null,
   "id": "8bd1beb3",
   "metadata": {},
   "outputs": [],
   "source": []
  }
 ],
 "metadata": {
  "kernelspec": {
   "display_name": "Python 3",
   "language": "python",
   "name": "python3"
  },
  "language_info": {
   "codemirror_mode": {
    "name": "ipython",
    "version": 3
   },
   "file_extension": ".py",
   "mimetype": "text/x-python",
   "name": "python",
   "nbconvert_exporter": "python",
   "pygments_lexer": "ipython3",
   "version": "3.14.0"
  }
 },
 "nbformat": 4,
 "nbformat_minor": 5
}
