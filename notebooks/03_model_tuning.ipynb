{
 "cells": [
  {
   "cell_type": "code",
   "execution_count": 2,
   "id": "51499c75",
   "metadata": {},
   "outputs": [],
   "source": [
    "import pandas as pd\n",
    "import numpy as np\n",
    "import re\n",
    "\n",
    "# --- Вспомогательные функции ---\n",
    "def rmse(y_true, y_pred):\n",
    "    return np.sqrt(((y_pred - y_true) ** 2).mean())\n",
    "\n",
    "def train_linear_regression_reg(X, y, r=0.001):\n",
    "    ones = np.ones(X.shape[0])\n",
    "    X = np.column_stack([ones, X])\n",
    "    XTX = X.T.dot(X)\n",
    "    XTX = XTX + r * np.eye(XTX.shape[0])\n",
    "    XTX_inv = np.linalg.inv(XTX)\n",
    "    w = XTX_inv.dot(X.T).dot(y)\n",
    "    return w[0], w[1:]"
   ]
  },
  {
   "cell_type": "code",
   "execution_count": 4,
   "id": "82ef93b8",
   "metadata": {},
   "outputs": [],
   "source": [
    "def prepare_X(df):\n",
    "    df = df.copy()\n",
    "    base = ['engine_hp', 'engine_cylinders', 'highway_mpg', 'city_mpg', 'popularity']\n",
    "    features = base.copy()\n",
    "    \n",
    "    # Возраст\n",
    "    df['age'] = 2017 - df['year']\n",
    "    features.append('age')\n",
    "    \n",
    "    # Двери\n",
    "    for v in [2, 3, 4]:\n",
    "        feature = f'num_doors_{v}'\n",
    "        df[feature] = (df['number_of_doors'] == v).astype(int)\n",
    "        features.append(feature)\n",
    "    \n",
    "    # Топ-5 марок\n",
    "    top_makes = ['ford', 'chevrolet', 'toyota', 'nissan', 'honda']\n",
    "    for make in top_makes:\n",
    "        feature = f'is_make_{make}'\n",
    "        df[feature] = (df['make'] == make).astype(int)\n",
    "        features.append(feature)\n",
    "    \n",
    "    # Тип топлива\n",
    "    fuel_types = [\n",
    "        'regular unleaded',\n",
    "        'premium unleaded (required)',\n",
    "        'premium unleaded (recommended)',\n",
    "        'flex-fuel (unleaded/e85)',\n",
    "        'diesel'\n",
    "    ]\n",
    "    for fuel in fuel_types:\n",
    "        clean_name = fuel.replace(' ', '_').replace('(', '').replace(')', '').replace('/', '_')\n",
    "        feature = f'is_fuel_{clean_name}'\n",
    "        df[feature] = (df['engine_fuel_type'] == fuel).astype(int)\n",
    "        features.append(feature)\n",
    "    \n",
    "    # Трансмиссия\n",
    "    transmissions = ['automatic', 'manual', 'automated_manual']\n",
    "    for trans in transmissions:\n",
    "        feature = f'is_trans_{trans}'\n",
    "        df[feature] = (df['transmission_type'] == trans).astype(int)\n",
    "        features.append(feature)\n",
    "    \n",
    "    # Привод\n",
    "    drives = ['front wheel drive', 'rear wheel drive', 'all wheel drive', 'four wheel drive']\n",
    "    for drive in drives:\n",
    "        clean_drive = drive.replace(' ', '_')\n",
    "        feature = f'is_drive_{clean_drive}'\n",
    "        df[feature] = (df['driven_wheels'] == drive).astype(int)\n",
    "        features.append(feature)\n",
    "    \n",
    "    # Размер\n",
    "    sizes = ['compact', 'midsize', 'large']\n",
    "    for size in sizes:\n",
    "        feature = f'is_size_{size}'\n",
    "        df[feature] = (df['vehicle_size'] == size).astype(int)\n",
    "        features.append(feature)\n",
    "    \n",
    "    # Стиль кузова\n",
    "    styles = ['sedan', '4dr_suv', 'crew_cab_pickup', 'coupe', '4dr_hatchback']\n",
    "    for style in styles:\n",
    "        feature = f'is_style_{style}'\n",
    "        df[feature] = (df['vehicle_style'] == style).astype(int)\n",
    "        features.append(feature)\n",
    "    \n",
    "    # Матрица признаков\n",
    "    df_num = df[features].fillna(0)\n",
    "    X = df_num.values\n",
    "    return X"
   ]
  },
  {
   "cell_type": "code",
   "execution_count": 5,
   "id": "5c5caabd",
   "metadata": {},
   "outputs": [
    {
     "name": "stdout",
     "output_type": "stream",
     "text": [
      "Train: 7007, Val: 2336, Test: 2336\n"
     ]
    }
   ],
   "source": [
    "# --- Загрузка и обработка данных (полная) ---\n",
    "with open('../data/data.csv', 'r', encoding='utf-8') as f:\n",
    "    raw = f.read().strip()\n",
    "\n",
    "fixed = re.sub(r'(\\d)([A-Z])', r'\\1\\n\\2', raw)\n",
    "with open('../data/data_fixed.csv', 'w', encoding='utf-8') as f:\n",
    "    f.write(fixed)\n",
    "\n",
    "columns = [\n",
    "    'make', 'model', 'year', 'engine_fuel_type', 'engine_hp', 'engine_cylinders',\n",
    "    'transmission_type', 'driven_wheels', 'number_of_doors', 'market_category',\n",
    "    'vehicle_size', 'vehicle_style', 'highway_mpg', 'city_mpg', 'popularity', 'msrp'\n",
    "]\n",
    "df = pd.read_csv('../data/data_fixed.csv', header=None, names=columns)\n",
    "\n",
    "# Числовые колонки\n",
    "numeric_cols = ['year', 'engine_hp', 'engine_cylinders', 'highway_mpg', 'city_mpg', 'popularity', 'msrp', 'number_of_doors']\n",
    "for col in numeric_cols:\n",
    "    df[col] = pd.to_numeric(df[col], errors='coerce')\n",
    "\n",
    "# Строковые колонки\n",
    "str_cols = df.select_dtypes(include='object').columns\n",
    "for col in str_cols:\n",
    "    df[col] = df[col].astype(str).str.lower().str.replace(' ', '_')\n",
    "\n",
    "# Удаление строк с некорректной ценой\n",
    "df = df.dropna(subset=['msrp'])\n",
    "df['log_msrp'] = np.log1p(df['msrp'])\n",
    "\n",
    "# Разбиение\n",
    "from sklearn.model_selection import train_test_split\n",
    "df_full_train, df_test = train_test_split(df, test_size=0.2, random_state=2)\n",
    "df_train, df_val = train_test_split(df_full_train, test_size=0.25, random_state=2)\n",
    "\n",
    "df_train = df_train.reset_index(drop=True)\n",
    "df_val = df_val.reset_index(drop=True)\n",
    "df_test = df_test.reset_index(drop=True)\n",
    "\n",
    "y_train = df_train['log_msrp'].values\n",
    "y_val = df_val['log_msrp'].values\n",
    "y_test = df_test['log_msrp'].values\n",
    "\n",
    "print(f\"Train: {len(df_train)}, Val: {len(df_val)}, Test: {len(df_test)}\")"
   ]
  },
  {
   "cell_type": "code",
   "execution_count": 6,
   "id": "b9678c50",
   "metadata": {},
   "outputs": [
    {
     "name": "stdout",
     "output_type": "stream",
     "text": [
      "r =    1e-05 → RMSE = 0.49923\n",
      "r =   0.0001 → RMSE = 0.49923\n",
      "r =    0.001 → RMSE = 0.49924\n",
      "r =     0.01 → RMSE = 0.49934\n",
      "r =      0.1 → RMSE = 0.50036\n",
      "r =        1 → RMSE = 0.50687\n",
      "r =       10 → RMSE = 0.52221\n",
      "\n",
      "✅ Лучший r = 1e-05, RMSE = 0.49923\n"
     ]
    }
   ],
   "source": [
    "# Подготовка данных\n",
    "X_train = prepare_X(df_train)\n",
    "X_val = prepare_X(df_val)\n",
    "\n",
    "# Диапазон значений регуляризации\n",
    "r_values = [0.00001, 0.0001, 0.001, 0.01, 0.1, 1, 10]\n",
    "scores = []\n",
    "\n",
    "for r in r_values:\n",
    "    w0, w = train_linear_regression_reg(X_train, y_train, r=r)\n",
    "    y_pred = w0 + X_val.dot(w)\n",
    "    score = rmse(y_val, y_pred)\n",
    "    scores.append(score)\n",
    "    print(f'r = {r:>8} → RMSE = {score:.5f}')\n",
    "\n",
    "# Выбор лучшего r\n",
    "best_r = r_values[np.argmin(scores)]\n",
    "best_rmse = min(scores)\n",
    "print(f'\\n✅ Лучший r = {best_r}, RMSE = {best_rmse:.5f}')"
   ]
  },
  {
   "cell_type": "code",
   "execution_count": 7,
   "id": "84382001",
   "metadata": {},
   "outputs": [],
   "source": [
    "def prepare_X_with_interactions(df):\n",
    "    df = df.copy()\n",
    "    base = ['engine_hp', 'engine_cylinders', 'highway_mpg', 'city_mpg', 'popularity']\n",
    "    features = base.copy()\n",
    "    \n",
    "    # Возраст автомобиля\n",
    "    df['age'] = 2017 - df['year']\n",
    "    features.append('age')\n",
    "    \n",
    "    # Базовые категориальные признаки\n",
    "    top_makes = ['ford', 'chevrolet', 'toyota', 'nissan', 'honda']\n",
    "    for make in top_makes:\n",
    "        feature = f'is_make_{make}'\n",
    "        df[feature] = (df['make'] == make).astype(int)\n",
    "        features.append(feature)\n",
    "    \n",
    "    # Взаимодействия: мощность × марка\n",
    "    for make in top_makes:\n",
    "        feat_name = f'hp_x_{make}'\n",
    "        df[feat_name] = df['engine_hp'] * (df['make'] == make).astype(int)\n",
    "        features.append(feat_name)\n",
    "    \n",
    "    # Взаимодействия: возраст × марка\n",
    "    for make in top_makes:\n",
    "        feat_name = f'age_x_{make}'\n",
    "        df[feat_name] = df['age'] * (df['make'] == make).astype(int)\n",
    "        features.append(feat_name)\n",
    "    \n",
    "    # Взаимодействие: тип топлива × цилиндры\n",
    "    df['fuel_premium_x_cyl'] = df['engine_cylinders'] * (df['engine_fuel_type'] == 'premium unleaded (required)').astype(int)\n",
    "    features.append('fuel_premium_x_cyl')\n",
    "    \n",
    "    # Остальные признаки (двери, трансмиссия и т.д.) — добавим позже при необходимости\n",
    "    # На данном этапе ограничимся ключевыми\n",
    "    \n",
    "    df_num = df[features].fillna(0)\n",
    "    X = df_num.values\n",
    "    return X"
   ]
  },
  {
   "cell_type": "code",
   "execution_count": 8,
   "id": "050d9818",
   "metadata": {},
   "outputs": [
    {
     "name": "stdout",
     "output_type": "stream",
     "text": [
      "RMSE с взаимодействиями: 0.50205\n"
     ]
    }
   ],
   "source": [
    "# Обучение с взаимодействиями\n",
    "X_train_int = prepare_X_with_interactions(df_train)\n",
    "X_val_int = prepare_X_with_interactions(df_val)\n",
    "\n",
    "w0, w = train_linear_regression_reg(X_train_int, y_train, r=1e-05)\n",
    "y_pred_int = w0 + X_val_int.dot(w)\n",
    "rmse_int = rmse(y_val, y_pred_int)\n",
    "\n",
    "print(f\"RMSE с взаимодействиями: {rmse_int:.5f}\")"
   ]
  },
  {
   "cell_type": "markdown",
   "id": "b7315149",
   "metadata": {},
   "source": [
    "начало лог.регрессии"
   ]
  },
  {
   "cell_type": "code",
   "execution_count": 9,
   "id": "31331b13",
   "metadata": {},
   "outputs": [
    {
     "name": "stdout",
     "output_type": "stream",
     "text": [
      "Пороги: дешёвый ≤ $24,017, средний ≤ $36,625\n",
      "Распределение классов (train):\n",
      "0    2296\n",
      "1    2323\n",
      "2    2388\n",
      "Name: count, dtype: int64\n"
     ]
    }
   ],
   "source": [
    "# Определим диапазоны цен на основе квантилей\n",
    "price_quantiles = df['msrp'].quantile([0.33, 0.66]).values\n",
    "low_threshold, high_threshold = price_quantiles\n",
    "\n",
    "def price_class(price):\n",
    "    if price <= low_threshold:\n",
    "        return 0  # \"дешёвый\"\n",
    "    elif price <= high_threshold:\n",
    "        return 1  # \"средний\"\n",
    "    else:\n",
    "        return 2  # \"дорогой\"\n",
    "\n",
    "# Применяем к выборкам\n",
    "df_train['price_class'] = df_train['msrp'].apply(price_class)\n",
    "df_val['price_class'] = df_val['msrp'].apply(price_class)\n",
    "df_test['price_class'] = df_test['msrp'].apply(price_class)\n",
    "\n",
    "y_train_clf = df_train['price_class'].values\n",
    "y_val_clf = df_val['price_class'].values\n",
    "\n",
    "print(f\"Пороги: дешёвый ≤ ${low_threshold:,.0f}, средний ≤ ${high_threshold:,.0f}\")\n",
    "print(\"Распределение классов (train):\")\n",
    "print(pd.Series(y_train_clf).value_counts().sort_index())"
   ]
  },
  {
   "cell_type": "code",
   "execution_count": 10,
   "id": "3ab58b7c",
   "metadata": {},
   "outputs": [
    {
     "name": "stdout",
     "output_type": "stream",
     "text": [
      "Accuracy на валидации: 0.7551\n",
      "\n",
      "Classification Report:\n",
      "              precision    recall  f1-score   support\n",
      "\n",
      "     Дешёвый       0.85      0.84      0.84       788\n",
      "     Средний       0.64      0.61      0.62       757\n",
      "     Дорогой       0.77      0.81      0.79       791\n",
      "\n",
      "    accuracy                           0.76      2336\n",
      "   macro avg       0.75      0.75      0.75      2336\n",
      "weighted avg       0.75      0.76      0.75      2336\n",
      "\n"
     ]
    },
    {
     "name": "stderr",
     "output_type": "stream",
     "text": [
      "c:\\Users\\churilinkb\\AppData\\Local\\Programs\\Python\\Python314\\Lib\\site-packages\\sklearn\\linear_model\\_logistic.py:473: ConvergenceWarning: lbfgs failed to converge after 1000 iteration(s) (status=1):\n",
      "STOP: TOTAL NO. OF ITERATIONS REACHED LIMIT\n",
      "\n",
      "Increase the number of iterations to improve the convergence (max_iter=1000).\n",
      "You might also want to scale the data as shown in:\n",
      "    https://scikit-learn.org/stable/modules/preprocessing.html\n",
      "Please also refer to the documentation for alternative solver options:\n",
      "    https://scikit-learn.org/stable/modules/linear_model.html#logistic-regression\n",
      "  n_iter_i = _check_optimize_result(\n"
     ]
    }
   ],
   "source": [
    "from sklearn.linear_model import LogisticRegression\n",
    "from sklearn.metrics import classification_report, accuracy_score\n",
    "\n",
    "# Подготовка признаков (используем ту же функцию, что и для регрессии)\n",
    "X_train_clf = prepare_X(df_train)\n",
    "X_val_clf = prepare_X(df_val)\n",
    "\n",
    "# Обучение логистической регрессии\n",
    "clf = LogisticRegression(max_iter=1000, random_state=2)\n",
    "clf.fit(X_train_clf, y_train_clf)\n",
    "\n",
    "# Предсказания\n",
    "y_pred_clf = clf.predict(X_val_clf)\n",
    "\n",
    "# Оценка качества\n",
    "acc = accuracy_score(y_val_clf, y_pred_clf)\n",
    "print(f\"Accuracy на валидации: {acc:.4f}\")\n",
    "print(\"\\nClassification Report:\")\n",
    "print(classification_report(y_val_clf, y_pred_clf, target_names=['Дешёвый', 'Средний', 'Дорогой']))"
   ]
  },
  {
   "cell_type": "code",
   "execution_count": 11,
   "id": "25c00dfd",
   "metadata": {},
   "outputs": [
    {
     "name": "stdout",
     "output_type": "stream",
     "text": [
      "RMSE (ваша реализация): 0.49923\n",
      "RMSE (sklearn Ridge):    0.49923\n",
      "Разница:                 0.000000\n"
     ]
    }
   ],
   "source": [
    "from sklearn.linear_model import Ridge\n",
    "\n",
    "# Подготовка данных\n",
    "X_train = prepare_X(df_train)\n",
    "X_val = prepare_X(df_val)\n",
    "\n",
    "# Ваша реализация\n",
    "w0, w = train_linear_regression_reg(X_train, y_train, r=1e-05)\n",
    "y_pred_custom = w0 + X_val.dot(w)\n",
    "rmse_custom = rmse(y_val, y_pred_custom)\n",
    "\n",
    "# Sklearn Ridge\n",
    "ridge = Ridge(alpha=1e-05, solver='cholesky')\n",
    "ridge.fit(X_train, y_train)\n",
    "y_pred_sklearn = ridge.predict(X_val)\n",
    "rmse_sklearn = rmse(y_val, y_pred_sklearn)\n",
    "\n",
    "print(f\"RMSE (ваша реализация): {rmse_custom:.5f}\")\n",
    "print(f\"RMSE (sklearn Ridge):    {rmse_sklearn:.5f}\")\n",
    "print(f\"Разница:                 {abs(rmse_custom - rmse_sklearn):.6f}\")"
   ]
  },
  {
   "cell_type": "code",
   "execution_count": 12,
   "id": "0394c657",
   "metadata": {},
   "outputs": [
    {
     "name": "stdout",
     "output_type": "stream",
     "text": [
      "✅ Модель сохранена в '../models/model_weights.pkl'\n"
     ]
    }
   ],
   "source": [
    "import pickle\n",
    "\n",
    "# Обучаем финальную модель на полных тренировочных данных\n",
    "X_train_full = prepare_X(df_train)\n",
    "w0_final, w_final = train_linear_regression_reg(X_train_full, y_train, r=1e-05)\n",
    "\n",
    "# Сохраняем веса модели\n",
    "model_weights = {'w0': w0_final, 'w': w_final}\n",
    "with open('../models/model_weights.pkl', 'wb') as f:\n",
    "    pickle.dump(model_weights, f)\n",
    "\n",
    "print(\"✅ Модель сохранена в '../models/model_weights.pkl'\")"
   ]
  },
  {
   "cell_type": "code",
   "execution_count": 14,
   "id": "057e0a76",
   "metadata": {},
   "outputs": [],
   "source": [
    "def predict_price(car_dict, model_path='../models/model_weights.pkl'):\n",
    "    \"\"\"\n",
    "    Предсказывает цену автомобиля по его характеристикам.\n",
    "    \n",
    "    car_dict: словарь с ключами, соответствующими колонкам датасета\n",
    "    Пример:\n",
    "        {\n",
    "            'make': 'toyota',\n",
    "            'model': 'rav4',\n",
    "            'year': 2017,\n",
    "            'engine_fuel_type': 'regular unleaded',\n",
    "            'engine_hp': 176,\n",
    "            'engine_cylinders': 4,\n",
    "            'transmission_type': 'automatic',\n",
    "            'driven_wheels': 'all wheel drive',\n",
    "            'number_of_doors': 4,\n",
    "            'market_category': 'crossover',\n",
    "            'vehicle_size': 'midsize',\n",
    "            'vehicle_style': '4dr suv',\n",
    "            'highway_mpg': 28,\n",
    "            'city_mpg': 22,\n",
    "            'popularity': 2031\n",
    "        }\n",
    "    \"\"\"\n",
    "    # Загружаем модель\n",
    "    with open(model_path, 'rb') as f:\n",
    "        weights = pickle.load(f)\n",
    "    w0, w = weights['w0'], weights['w']\n",
    "    \n",
    "    # Создаём датафрейм из словаря\n",
    "    df_input = pd.DataFrame([car_dict])\n",
    "    \n",
    "    # Подготавливаем признаки\n",
    "    X_input = prepare_X(df_input)\n",
    "    \n",
    "    # Предсказание в лог-масштабе\n",
    "    log_price_pred = w0 + X_input.dot(w)\n",
    "    \n",
    "    # Обратное преобразование в доллары\n",
    "    price_pred = np.expm1(log_price_pred[0])\n",
    "    \n",
    "    return price_pred"
   ]
  },
  {
   "cell_type": "code",
   "execution_count": 15,
   "id": "6053d67f",
   "metadata": {},
   "outputs": [
    {
     "name": "stdout",
     "output_type": "stream",
     "text": [
      "Предсказанная цена: $26,745\n"
     ]
    }
   ],
   "source": [
    "# Пример автомобиля\n",
    "new_car = {\n",
    "    'make': 'toyota',\n",
    "    'model': 'rav4',\n",
    "    'year': 2017,\n",
    "    'engine_fuel_type': 'regular unleaded',\n",
    "    'engine_hp': 176,\n",
    "    'engine_cylinders': 4,\n",
    "    'transmission_type': 'automatic',\n",
    "    'driven_wheels': 'all wheel drive',\n",
    "    'number_of_doors': 4,\n",
    "    'market_category': 'crossover',\n",
    "    'vehicle_size': 'midsize',\n",
    "    'vehicle_style': '4dr suv',\n",
    "    'highway_mpg': 28,\n",
    "    'city_mpg': 22,\n",
    "    'popularity': 2031\n",
    "}\n",
    "\n",
    "predicted_price = predict_price(new_car)\n",
    "print(f\"Предсказанная цена: ${predicted_price:,.0f}\")"
   ]
  },
  {
   "cell_type": "markdown",
   "id": "95141f06",
   "metadata": {},
   "source": [
    "📌 Итоги выполнения всего плана:\n",
    "✅ Подбор гиперпараметра регуляризации r → r = 1e-05\n",
    "✅ Добавление взаимодействий признаков → не улучшило RMSE, решение принято обоснованно\n",
    "✅ Логистическая регрессия для классификации диапазонов цен → Accuracy = 75.5%, сбалансированные классы\n",
    "✅ Сравнение с sklearn.linear_model.Ridge → RMSE идентичен, реализация корректна\n",
    "✅ Сохранение модели и функция предсказания → работает корректно"
   ]
  }
 ],
 "metadata": {
  "kernelspec": {
   "display_name": "Python 3",
   "language": "python",
   "name": "python3"
  },
  "language_info": {
   "codemirror_mode": {
    "name": "ipython",
    "version": 3
   },
   "file_extension": ".py",
   "mimetype": "text/x-python",
   "name": "python",
   "nbconvert_exporter": "python",
   "pygments_lexer": "ipython3",
   "version": "3.14.0"
  }
 },
 "nbformat": 4,
 "nbformat_minor": 5
}
